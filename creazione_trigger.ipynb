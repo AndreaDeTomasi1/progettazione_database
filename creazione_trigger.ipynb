{
 "cells": [
  {
   "cell_type": "code",
   "execution_count": null,
   "id": "81f4cabc",
   "metadata": {},
   "outputs": [
    {
     "name": "stdout",
     "output_type": "stream",
     "text": [
      "Trigger creato con successo!\n"
     ]
    }
   ],
   "source": [
    "import sqlite3\n",
    "\n",
    "# Connessione al file del database\n",
    "conn = sqlite3.connect(\"linkedin.db\")\n",
    "cursor = conn.cursor()\n",
    "\n",
    "# Crea la tabella di log\n",
    "cursor.execute(\"\"\"\n",
    "CREATE TABLE IF NOT EXISTS log_user (\n",
    "    id_log INTEGER PRIMARY KEY AUTOINCREMENT,\n",
    "    id_utente INTEGER,\n",
    "    data_inserimento TEXT\n",
    ")\n",
    "\"\"\")\n",
    "\n",
    "# Crea il trigger (si attiva dopo ogni inserimento nella tabella `utenti`)\n",
    "cursor.execute(f\"\"\"\n",
    "CREATE TRIGGER IF NOT EXISTS trigger_log_inserimento\n",
    "AFTER INSERT ON user\n",
    "BEGIN\n",
    "    INSERT INTO log_user (id_utente, data_inserimento)\n",
    "    VALUES (NEW.user_id, datetime('now'));\n",
    "END;\n",
    "\"\"\")\n",
    "\n",
    "# Salva e chiudi\n",
    "conn.commit()\n",
    "conn.close()\n",
    "\n",
    "print(\"Trigger creato con successo!\")\n"
   ]
  }
 ],
 "metadata": {
  "kernelspec": {
   "display_name": "Python 3",
   "language": "python",
   "name": "python3"
  },
  "language_info": {
   "codemirror_mode": {
    "name": "ipython",
    "version": 3
   },
   "file_extension": ".py",
   "mimetype": "text/x-python",
   "name": "python",
   "nbconvert_exporter": "python",
   "pygments_lexer": "ipython3",
   "version": "3.12.10"
  }
 },
 "nbformat": 4,
 "nbformat_minor": 5
}
